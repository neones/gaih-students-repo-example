{
  "nbformat": 4,
  "nbformat_minor": 0,
  "metadata": {
    "colab": {
      "name": "final.project",
      "provenance": [],
      "collapsed_sections": []
    },
    "kernelspec": {
      "name": "python3",
      "display_name": "Python 3"
    }
  },
  "cells": [
    {
      "cell_type": "code",
      "metadata": {
        "colab": {
          "base_uri": "https://localhost:8080/",
          "height": 128
        },
        "id": "F20uuZjzNlvY",
        "outputId": "1328a5a0-e59b-42dc-f426-c2900d24f290"
      },
      "source": [
        "class Employee:\r\n",
        "  def __init__(self, name, age):\r\n",
        "      self.name = name\r\n",
        "      self.age = age\r\n",
        "      self.language = []\r\n",
        "      self.manager = []\r\n",
        "  \r\n",
        "  def listlan(self):\r\n",
        "    print(self.language)\r\n",
        "      \r\n",
        "\r\n",
        "manager_1 = Employee(\"Lucy Spence\",\"30\")\r\n",
        "manager_2 = Employee(\"John Smith\",\"45\",)\r\n",
        "employee_1 = Employee(\"Rose Tyler\",\"22\")\r\n",
        "employee_2 = Employee(\"Jack Russell\",\"25\")\r\n",
        "employee_3 = Employee(\"Matilda Stevenson\",\"29\")\r\n",
        "employee_list =  {{\"Rose Tyler\":{\"language\":\"French\"}}, {\"Jack Russell\":{\"language\":[\"French\",\"English\"]}}, {\"Matilda Stevenson\":{\"language\":\"English\"}}}\r\n",
        "\r\n",
        "employee_list[\"Rose Tyler\"][\"language\"]).listlan()"
      ],
      "execution_count": 124,
      "outputs": [
        {
          "output_type": "error",
          "ename": "SyntaxError",
          "evalue": "ignored",
          "traceback": [
            "\u001b[0;36m  File \u001b[0;32m\"<ipython-input-124-f340bbe54159>\"\u001b[0;36m, line \u001b[0;32m19\u001b[0m\n\u001b[0;31m    employee_list[\"Rose Tyler\"][\"language\"]).listlan()\u001b[0m\n\u001b[0m                                           ^\u001b[0m\n\u001b[0;31mSyntaxError\u001b[0m\u001b[0;31m:\u001b[0m invalid syntax\n"
          ]
        }
      ]
    },
    {
      "cell_type": "code",
      "metadata": {
        "id": "ghlzyqFaTy1u"
      },
      "source": [
        "class Employee:\r\n",
        "  def __init__(self, name, surname, language):\r\n",
        "      self.first_name = name\r\n",
        "      self.sur_name = surname\r\n",
        "      self.language = []\r\n",
        "    \r\n",
        "\r\n",
        "employeelist = [(\"John\",\"Smith\",\"English\"), (\"Gregory\",\"House\",[\"English\",\"French\"])]\r\n",
        "\r\n",
        "manager_1 = Employee(\"Lisa\",\"Cuddy\")\r\n",
        "manager_2 = Employee(\"Rose\",\"Tyler\")\r\n",
        "employee_1 = Employee(\"John\",\"Smith\")\r\n",
        "employee_2 = Employee(\"Gregory\",\"House\")\r\n",
        "\r\n",
        "append.employee()\r\n",
        "\r\n",
        "my_dict = {\"John\"}"
      ],
      "execution_count": null,
      "outputs": []
    }
  ]
}